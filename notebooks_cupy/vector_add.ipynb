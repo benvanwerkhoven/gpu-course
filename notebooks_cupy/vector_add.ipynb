{
  "cells": [
    {
      "cell_type": "markdown",
      "metadata": {
        "id": "hia7r5x-2H3A"
      },
      "source": [
        "# Vector Add\n",
        "\n",
        "The vector addition kernel is one of the most simple GPU kernels and is therefore used to explain basic GPU programming concepts.\n",
        "\n",
        "In this exercise you start with reading through the code and look for something that needs to be implemented. We will start with doing some necessary imports of modules that we need to compile and run GPU code."
      ]
    },
    {
      "cell_type": "code",
      "execution_count": null,
      "metadata": {
        "id": "x5FPLmzg2H3B"
      },
      "outputs": [],
      "source": [
        "import numpy as np\n",
        "import cupy as cp"
      ]
    },
    {
      "cell_type": "code",
      "execution_count": null,
      "metadata": {
        "id": "46gqft5z2H3B"
      },
      "outputs": [],
      "source": [
        "# Initialize cupy and create a device context\n",
        "device = cp.cuda.Device(0)\n",
        "device.use();"
      ]
    },
    {
      "cell_type": "markdown",
      "metadata": {
        "id": "eKn4tNto2H3C"
      },
      "source": [
        "Now we need to implement our GPU kernel, which is written in the CUDA language. The following cell writes its contents to a file named vector_add.cu which we will later compile on the GPU into a GPU kernel."
      ]
    },
    {
      "cell_type": "code",
      "execution_count": null,
      "metadata": {
        "id": "LkRmaCXu2H3C"
      },
      "outputs": [],
      "source": [
        "%%writefile vector_add.cu\n",
        "extern \"C\"\n",
        "__global__ void vec_add_kernel(float *c, float *a, float *b, int n) {\n",
        "    int i = 0;   // Oops! Something is not right here, please fix it!\n",
        "    if (i < n) {\n",
        "        c[i] = a[i] + b[i];\n",
        "    }\n",
        "}"
      ]
    },
    {
      "cell_type": "markdown",
      "metadata": {
        "id": "TQ0uNYMs2H3C"
      },
      "source": [
        "Before we continue with our GPU kernel we will setup the input and output data for our GPU kernel"
      ]
    },
    {
      "cell_type": "code",
      "execution_count": null,
      "metadata": {
        "id": "xJRje9gk2H3C"
      },
      "outputs": [],
      "source": [
        "n = np.int32(5e7)\n",
        "a = np.random.randn(n).astype(np.float32)\n",
        "b = np.random.randn(n).astype(np.float32)\n",
        "c = np.zeros_like(b)"
      ]
    },
    {
      "cell_type": "markdown",
      "metadata": {
        "id": "sz--vAbp2H3C"
      },
      "source": [
        "We can also measure the time it would take to compute an element-wise vector addition of a and b in Python"
      ]
    },
    {
      "cell_type": "code",
      "execution_count": null,
      "metadata": {
        "id": "Ui5luWVK2H3D"
      },
      "outputs": [],
      "source": [
        "%%time\n",
        "\n",
        "d = a+b"
      ]
    },
    {
      "cell_type": "markdown",
      "metadata": {
        "id": "xW8n0n_W2H3E"
      },
      "source": [
        "Now lets compile our CUDA kernel and see how long it takes to perform the same computation on the GPU"
      ]
    },
    {
      "cell_type": "code",
      "execution_count": null,
      "metadata": {
        "id": "eJqBt_uW2H3E"
      },
      "outputs": [],
      "source": [
        "#first we allocate GPU memory and copy the data to the GPU\n",
        "args = [c, a, b]\n",
        "gpu_args = []\n",
        "for arg in args:\n",
        "    gpu_args.append(cp.array(arg))\n",
        "gpu_args.append(n)"
      ]
    },
    {
      "cell_type": "markdown",
      "metadata": {
        "id": "pbMWPzxi2H3E"
      },
      "source": [
        "Before compiling our kernel we setup the kernel launch parameters"
      ]
    },
    {
      "cell_type": "code",
      "execution_count": null,
      "metadata": {
        "id": "IqAvTSvG2H3F"
      },
      "outputs": [],
      "source": [
        "#setup the thread block dimensions (x, y, z)\n",
        "threads = (1024, 1, 1)\n",
        "#setup the number of thread blocks in (x, y, z)\n",
        "grid = (int(np.ceil(n/float(threads[0]))), 1, 1)"
      ]
    },
    {
      "cell_type": "markdown",
      "metadata": {
        "id": "KPRkSIKj2H3F"
      },
      "source": [
        "Now compile and run the kernel, measure the execution time, copy the data back from GPU memory to our Numpy array c and check if the result is correct.\n",
        "\n",
        "This is all in one cell because you will have to modify the CUDA source code and run this cell again to check if you've completed the assignment."
      ]
    },
    {
      "cell_type": "code",
      "execution_count": null,
      "metadata": {
        "id": "YcCcAuFs2H3F"
      },
      "outputs": [],
      "source": [
        "#we have to pass the source code as a string, so we first read it from disk\n",
        "with open('vector_add.cu', 'r') as f:\n",
        "    kernel_string = f.read()\n",
        "\n",
        "#compile the kernel\n",
        "vector_add = cp.RawModule(code=kernel_string,\n",
        "                          options=(),\n",
        "                          ).get_function(\"vec_add_kernel\")\n",
        "\n",
        "\n",
        "#Make sure all previous operations on the GPU have completed\n",
        "device.synchronize()\n",
        "#Create events for measuring time\n",
        "start = cp.cuda.Event()\n",
        "end = cp.cuda.Event()\n",
        "\n",
        "#Run the kernel\n",
        "start.record()\n",
        "vector_add(grid, threads, gpu_args, stream=None)\n",
        "end.record()\n",
        "\n",
        "#Wait for the kernel to finish\n",
        "device.synchronize()\n",
        "\n",
        "#Print how long it took\n",
        "print(\"vec_add_kernel took\", cp.cuda.get_elapsed_time(start, end), \"ms.\")\n",
        "\n",
        "#copy output data back from the GPU\n",
        "c = cp.asnumpy(gpu_args[0])\n",
        "\n",
        "#check for correctness\n",
        "print(\"PASSED\" if np.allclose(c, a+b, atol=1e-6) else \"FAILED\")"
      ]
    },
    {
      "cell_type": "code",
      "execution_count": null,
      "metadata": {
        "id": "lMa3RwTq2H3F"
      },
      "outputs": [],
      "source": []
    }
  ],
  "metadata": {
    "kernelspec": {
      "display_name": "Python 3",
      "name": "python3"
    },
    "language_info": {
      "codemirror_mode": {
        "name": "ipython",
        "version": 3
      },
      "file_extension": ".py",
      "mimetype": "text/x-python",
      "name": "python",
      "nbconvert_exporter": "python",
      "pygments_lexer": "ipython3",
      "version": "3.7.9"
    },
    "colab": {
      "provenance": [],
      "gpuType": "T4"
    },
    "accelerator": "GPU"
  },
  "nbformat": 4,
  "nbformat_minor": 0
}