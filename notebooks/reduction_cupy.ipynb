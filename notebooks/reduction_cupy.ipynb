{
  "nbformat": 4,
  "nbformat_minor": 0,
  "metadata": {
    "colab": {
      "name": "reduction_cupy.ipynb",
      "provenance": []
    },
    "kernelspec": {
      "name": "python3",
      "display_name": "Python 3"
    },
    "language_info": {
      "name": "python"
    }
  },
  "cells": [
    {
      "cell_type": "markdown",
      "metadata": {
        "id": "PLKSnRBoBb2X"
      },
      "source": [
        "\n",
        "# Reduction\n",
        "\n",
        "The goal of this exercise is to teach you about shared memory and parallel programming on a thread block level in the CUDA programming model.\n",
        "\n",
        "Please follow these steps:\n",
        "\n",
        "**Step 1**. Read through the entire notebook and run all cells at least once\n",
        "\n",
        "**Step 2**. Implement the missing part of the kernel code, following the instructions in the comments. The goal is that shared memory is used to sum the per-thread partial sums into a single per-thread-block partial sum\n",
        "\n",
        "Hints:\n",
        "* The kernel uses a so-called grid strided loop, where all threads in the grid cooperatively iterate over the problem domain. Therefore, the number of thread blocks does not depend on the size of the to be summed array. All threads from all blocks first iterate (collectively) over the problem size (n) to obtain a per-thread partial sum.\n",
        "* Within the thread block the per-thread partial sums are to be combined into a single per-thread-block partial sum.\n",
        "* Each thread block stores its partial sum to out_array[blockIdx.x]\n",
        "* The kernel is called twice, the second kernel is executed with only one thread block to combine all per-block partial sums to a single, global sum for the whole input array\n",
        "\n"
      ]
    },
    {
      "cell_type": "code",
      "metadata": {
        "id": "qZf1GLV0BWaY"
      },
      "source": [
        "import numpy as np\n",
        "import cupy as cp"
      ],
      "execution_count": null,
      "outputs": []
    },
    {
      "cell_type": "markdown",
      "metadata": {
        "id": "ZMPQSU6iDk32"
      },
      "source": [
        "Executing the following cell block writes its contents to the file \"reduction.cu\". Please read the comments to see what you need you to do to complete the implementation of this kernel."
      ]
    },
    {
      "cell_type": "code",
      "metadata": {
        "id": "9kHEXp7wBak-"
      },
      "source": [
        "%%writefile reduction.cu\n",
        "\n",
        "#define block_size_x 256\n",
        "\n",
        "__global__ void reduce_kernel(float *out_array, float *in_array, int n) {\n",
        "\n",
        "    int ti = threadIdx.x;\n",
        "    int x = blockIdx.x * block_size_x + threadIdx.x;\n",
        "    int step_size = gridDim.x * block_size_x;\n",
        "    float sum = 0.0f;\n",
        "\n",
        "    //cooperatively (with all threads in all thread blocks) iterate over input array\n",
        "    for (int i=x; i<n; i+=step_size) {\n",
        "        sum += in_array[i];\n",
        "    }\n",
        "\n",
        "    //at this point we have reduced the number of values to be summed from n to\n",
        "    //the total number of threads in all thread blocks combined\n",
        "\n",
        "    //the goal is now to reduce the values within each thread block to a single\n",
        "    //value per thread block for this we will need shared memory\n",
        "\n",
        "    //declare shared memory array, how much shared memory do we need?\n",
        "    //__shared__ float ...;\n",
        "\n",
        "    //make every thread store its thread-local sum to the array in shared memory\n",
        "    //... = sum;\n",
        "    \n",
        "    //now let's call syncthreads() to make sure all threads have finished\n",
        "    //storing their local sums to shared memory\n",
        "    __syncthreads();\n",
        "\n",
        "    //now this interesting looking loop will do the following:\n",
        "    //it iterates over the block_size_x with the following values for s:\n",
        "    //if block_size_x is 256, 's' will be powers of 2 from 128, 64, 32, down to 1.\n",
        "    //these decreasing offsets can be used to reduce the number\n",
        "    //of values within the thread block in only a few steps.\n",
        "    #pragma unroll\n",
        "    for (unsigned int s=block_size_x/2; s>0; s/=2) {\n",
        "\n",
        "        //you are to write the code inside this loop such that\n",
        "        //threads will add the sums of other threads that are 's' away\n",
        "        //do this iteratively such that together the threads compute the\n",
        "        //sum of all thread-local sums \n",
        "\n",
        "        //use shared memory to access the values of other threads\n",
        "        //and store the new value in shared memory to be used in the next round\n",
        "        //be careful that values that should be read are\n",
        "        //not overwritten before they are read\n",
        "        //make sure to call __syncthreads() when needed\n",
        "    }\n",
        "\n",
        "    //write back one value per thread block\n",
        "    if (ti == 0) {\n",
        "        //out_array[blockIdx.x] = ;  //store the per-thread block reduced value to global memory\n",
        "    }\n",
        "}"
      ],
      "execution_count": null,
      "outputs": []
    },
    {
      "cell_type": "markdown",
      "metadata": {
        "id": "cHHimXewDzMY"
      },
      "source": [
        "The following prepares the input and output data of our kernel."
      ]
    },
    {
      "cell_type": "code",
      "metadata": {
        "id": "brxLqBrrD1ke"
      },
      "source": [
        "# Setup kernel launch parameters\n",
        "block_size_x = 256\n",
        "num_blocks = 2048\n",
        "grid_size = (num_blocks, 1, 1)\n",
        "block_size = (block_size_x, 1, 1)\n",
        "\n",
        "# Create input and output data\n",
        "size = np.int32(5e7)\n",
        "input_cpu = np.random.randn(size).astype(np.float32) + 0.00000001\n",
        "\n",
        "# Allocate GPU memory\n",
        "input_gpu = cp.asarray(input_cpu)\n",
        "out_gpu = cp.zeros(num_blocks, dtype=cp.float32)"
      ],
      "execution_count": null,
      "outputs": []
    },
    {
      "cell_type": "markdown",
      "metadata": {
        "id": "rWiGTd1EGess"
      },
      "source": [
        "We compute a reference answer in Python to check if our GPU kernel returns the correct result."
      ]
    },
    {
      "cell_type": "code",
      "metadata": {
        "id": "RClmxEsgGiH-"
      },
      "source": [
        "%%time\n",
        "\n",
        "#compute reference sum in Python\n",
        "npsum = np.sum(input_cpu)"
      ],
      "execution_count": null,
      "outputs": []
    },
    {
      "cell_type": "markdown",
      "metadata": {
        "id": "g3tjtvgVGtAs"
      },
      "source": [
        "The following cell compiles and runs the kernel and checks if the output is correct. This is all in one cell so that you only need to rerun this cell after modifying the kernel code in the cell above."
      ]
    },
    {
      "cell_type": "code",
      "metadata": {
        "id": "SIlwlrC4Gv1V"
      },
      "source": [
        "# Read kernel into string\n",
        "with open('reduction.cu', 'r') as f:\n",
        "    kernel_string = f.read()\n",
        "\n",
        "# Compile CUDA kernel\n",
        "reduction_gpu = cp.RawKernel(kernel_string, \"reduce_kernel\")\n",
        "\n",
        "# Clear the GPU output array for correctness checks\n",
        "out_gpu = cp.zeros(num_blocks, dtype=cupy.float32)\n",
        "\n",
        "# Execute athe first partial reduction\n",
        "reduction_gpu(grid_size, block_size, (out_gpu, input_gpu, size))\n",
        "# Execute the second and final reduction\n",
        "reduction_gpu((1, 1, 1), block_size, (out_gpu, out_gpu, 2048))\n",
        "\n",
        "print(\"PASSED\" if np.absolute(npsum - gpu_sum) < 10.0 else \"FAILED\")"
      ],
      "execution_count": null,
      "outputs": []
    }
  ]
}