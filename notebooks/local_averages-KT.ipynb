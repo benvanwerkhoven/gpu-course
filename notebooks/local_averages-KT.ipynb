{
  "cells": [
    {
      "cell_type": "markdown",
      "metadata": {
        "id": "Gx0-xeNdAMMK"
      },
      "source": [
        "# Local averages\n",
        "\n",
        "In this hands-on your task is to optimize the performance of a kernel that computes averages.\n",
        "The input is a one-dimensional array of size **N**, and the input is a different one-dimensional array of size **N/4** where each element **i** is the average of 4 consecutive elements of the input array.\n",
        "\n",
        "Do not worry if the definition at this stage is still a bit vague, the code will be soon presented and you will realize it is self explanatory.\n",
        "But first, let us start by importing the necessary Python modules, initialize the GPU, and create the necessary arrays."
      ]
    },
    {
      "cell_type": "markdown",
      "metadata": {
        "id": "QktsZwDxAMMM"
      },
      "source": [
        "In this notebook we will be using Kernel Tuner, if you haven't installed Kernel Tuner yet, please run the following cell."
      ]
    },
    {
      "cell_type": "code",
      "execution_count": null,
      "metadata": {
        "id": "u2eZe2nxAMMN"
      },
      "outputs": [],
      "source": [
        "%pip install kernel_tuner"
      ]
    },
    {
      "cell_type": "markdown",
      "metadata": {
        "id": "W4jKjWSbAMMN"
      },
      "source": [
        "Now we are ready to import the necessary modules"
      ]
    },
    {
      "cell_type": "code",
      "execution_count": null,
      "metadata": {
        "id": "XVAYCsOjAMMO"
      },
      "outputs": [],
      "source": [
        "from collections import OrderedDict\n",
        "import numpy as np\n",
        "import kernel_tuner"
      ]
    },
    {
      "cell_type": "markdown",
      "metadata": {
        "id": "kCNU9fJyAMMO"
      },
      "source": [
        "Let's create the input and output data using Numpy"
      ]
    },
    {
      "cell_type": "code",
      "execution_count": null,
      "metadata": {
        "id": "p9rs6S62AMMP"
      },
      "outputs": [],
      "source": [
        "N = np.int32(10e6)\n",
        "A = np.random.randn(N).astype(np.float32)\n",
        "B1 = np.zeros(N//4).astype(np.float32)\n",
        "B2 = np.zeros_like(B1)"
      ]
    },
    {
      "cell_type": "markdown",
      "metadata": {
        "id": "O5EOxrofAMMP"
      },
      "source": [
        "Now that we have the right data structures, we can write a naive function to compute our local averages. This function is intentionally written in a C-like programming style, to help students that are less experienced with Python."
      ]
    },
    {
      "cell_type": "code",
      "execution_count": null,
      "metadata": {
        "id": "ILgbLQxyAMMQ"
      },
      "outputs": [],
      "source": [
        "def local_averages(A, B, N):\n",
        "    for i in range(0, np.int32(N/4)):\n",
        "        temp = 0.0\n",
        "        for j in range(0, 4):\n",
        "            temp = temp + A[(i * 4) + j]\n",
        "        B[i] = temp / 4.0"
      ]
    },
    {
      "cell_type": "markdown",
      "metadata": {
        "id": "jm174z32AMMQ"
      },
      "source": [
        "We can now execute and time our code. In this way we will save our reference output (for testing purpose) and have a glimpse at the execution time on the CPU."
      ]
    },
    {
      "cell_type": "code",
      "execution_count": null,
      "metadata": {
        "id": "mkggelRIAMMR"
      },
      "outputs": [],
      "source": [
        "%%time\n",
        "\n",
        "local_averages(A, B1, N)"
      ]
    },
    {
      "cell_type": "markdown",
      "metadata": {
        "id": "FGmdkDz_AMMR"
      },
      "source": [
        "A slightly more pythonic and much faster version of this function using Numpy is:"
      ]
    },
    {
      "cell_type": "code",
      "execution_count": null,
      "metadata": {
        "id": "G9a8-jYXAMMR"
      },
      "outputs": [],
      "source": [
        "%%time\n",
        "\n",
        "ref_b = np.average(A.reshape(N//4, 4), axis=1)"
      ]
    },
    {
      "cell_type": "markdown",
      "metadata": {
        "id": "5J7x4l51AMMR"
      },
      "source": [
        "Let's make sure these compute the same:"
      ]
    },
    {
      "cell_type": "code",
      "execution_count": null,
      "metadata": {
        "id": "o-NH8MqKAMMR"
      },
      "outputs": [],
      "source": [
        "print(\"PASSED\" if np.allclose(ref_b, B1, atol=1e-6) else \"FAILED\")"
      ]
    },
    {
      "cell_type": "markdown",
      "metadata": {
        "id": "ev_phOfnAMMS"
      },
      "source": [
        "It is now time to introduce the naive CUDA code, and save it to a local file, as done in any of the previous exercises. The main difference this time is that the code is already complete and correct."
      ]
    },
    {
      "cell_type": "code",
      "execution_count": null,
      "metadata": {
        "id": "x8h0Ukn4AMMS"
      },
      "outputs": [],
      "source": [
        "%%writefile local_averages.cu\n",
        "\n",
        "__global__ void local_averages_kernel(float * A, float * B, int size_B)\n",
        "{\n",
        "    int index = (blockIdx.x * blockDim.x) + threadIdx.x;\n",
        "\n",
        "    if ( index < size_B )\n",
        "    {\n",
        "        float temp = 0.0;\n",
        "\n",
        "        for ( int j = 0; j < 4; j++ )\n",
        "        {\n",
        "            temp = temp + A[(index * 4) + j];\n",
        "        }\n",
        "        B[index] = temp / 4.0;\n",
        "    }\n",
        "}"
      ]
    },
    {
      "cell_type": "markdown",
      "metadata": {
        "id": "rHe59AECAMMS"
      },
      "source": [
        "Your goal at this point is to understand how this kernel works, and improve its performance. But before doing that, let us use Kernel Tuner to measure the performance of this kernel."
      ]
    },
    {
      "cell_type": "code",
      "execution_count": null,
      "metadata": {
        "id": "31v0L0FvAMMS"
      },
      "outputs": [],
      "source": [
        "#we will specify the tunable parameters of this kernel using a dictionary\n",
        "tune_params = OrderedDict()\n",
        "\n",
        "#using the special name \"block_size_x\" we can specify what values\n",
        "#Kernel Tuner should use for the number of threads per block in the x-dimension\n",
        "tune_params[\"block_size_x\"] = [1024]\n",
        "\n",
        "#we can also specify how Kernel Tuner should compute performance metrics\n",
        "metrics = OrderedDict(GFLOPs=lambda p: (N/4*5/1e9)/(p[\"time\"]/1e3))\n",
        "\n",
        "res, env = kernel_tuner.tune_kernel(\"local_averages_kernel\", #the name of the kernel\n",
        "                                    \"local_averages.cu\",     #kernel source file\n",
        "                                    N//4,                    #problem size\n",
        "                                    [A, B2, N],              #kernel argument list\n",
        "                                    tune_params,             #tunable parameters\n",
        "                                    answer=[None, B1, None], #reference answer\n",
        "                                    metrics=metrics,         #performance metric\n",
        "                                    lang=\"cupy\")             #select cupy backend"
      ]
    },
    {
      "cell_type": "markdown",
      "source": [],
      "metadata": {
        "id": "Mv3CV_cOA8di"
      }
    },
    {
      "cell_type": "markdown",
      "metadata": {
        "id": "WLGdctoiAMMS"
      },
      "source": [
        "Executing the above cell gave us our starting point for our optimization process, which is the execution time of our naive kernel."
      ]
    },
    {
      "cell_type": "markdown",
      "metadata": {
        "id": "UTWyPn5ZAMMS"
      },
      "source": [
        "It is now your turn to change the CUDA code (don't forget to run the cell to write your changes to file) and improve the performance of the kernel.\n",
        "\n",
        "To avoid you losing track of the naive kernel's execution time, we are going to replicate the previous cell below this one. Just go back to the cell containing the CUDA code, modify the code, run that cell, and then run the one below. Because we use the ``answer`` option of tune_kernel, Kernel Tuner will complain if you make changes that invalidate the correctness of the kernel's output."
      ]
    },
    {
      "cell_type": "code",
      "execution_count": null,
      "metadata": {
        "id": "UZ7MmYiSAMMS"
      },
      "outputs": [],
      "source": [
        "#we will specify the tunable parameters of this kernel using a dictionary\n",
        "tune_params = OrderedDict()\n",
        "\n",
        "#using the special name \"block_size_x\" we can specify what values\n",
        "#Kernel Tuner should use for the number of threads per block in the x-dimension\n",
        "tune_params[\"block_size_x\"] = [1024]\n",
        "\n",
        "#we can also specify how Kernel Tuner should compute performance metrics\n",
        "metrics = OrderedDict(GFLOPs=lambda p: (N/4*5/1e9)/(p[\"time\"]/1e3))\n",
        "\n",
        "res, env = kernel_tuner.tune_kernel(\"local_averages_kernel\", #the name of the kernel\n",
        "                                    \"local_averages.cu\",     #kernel source file\n",
        "                                    N//4,                    #problem size\n",
        "                                    [A, B2, N],              #kernel argument list\n",
        "                                    tune_params,             #tunable parameters\n",
        "                                    answer=[None, B1, None], #reference answer\n",
        "                                    metrics=metrics,         #performance metric\n",
        "                                    lang=\"cupy\")             #select cupy backend"
      ]
    },
    {
      "cell_type": "code",
      "source": [],
      "metadata": {
        "id": "s_ZAVEd7A-iw"
      },
      "execution_count": null,
      "outputs": []
    }
  ],
  "metadata": {
    "kernelspec": {
      "display_name": "Python 3",
      "name": "python3"
    },
    "language_info": {
      "codemirror_mode": {
        "name": "ipython",
        "version": 3
      },
      "file_extension": ".py",
      "mimetype": "text/x-python",
      "name": "python",
      "nbconvert_exporter": "python",
      "pygments_lexer": "ipython3",
      "version": "3.7.9"
    },
    "colab": {
      "provenance": [],
      "gpuType": "T4"
    },
    "accelerator": "GPU"
  },
  "nbformat": 4,
  "nbformat_minor": 0
}